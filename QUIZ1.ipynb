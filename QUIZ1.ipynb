{
 "cells": [
  {
   "cell_type": "markdown",
   "metadata": {},
   "source": [
    "# QUIZ"
   ]
  },
  {
   "cell_type": "markdown",
   "metadata": {},
   "source": [
    "https://developer.riotgames.com/docs/lol  \n",
    "위 문서 내에서 제공하는 언어가 어떤 언어가 있는지 데이터를 받아와 보세요\n",
    "(ctrl+f로 language 검색 후 json 찾기)"
   ]
  },
  {
   "cell_type": "code",
   "execution_count": 1,
   "metadata": {},
   "outputs": [],
   "source": [
    "import requests"
   ]
  },
  {
   "cell_type": "code",
   "execution_count": 2,
   "metadata": {},
   "outputs": [],
   "source": [
    "url='https://ddragon.leagueoflegends.com/cdn/languages.json'"
   ]
  },
  {
   "cell_type": "code",
   "execution_count": 3,
   "metadata": {},
   "outputs": [
    {
     "data": {
      "text/plain": [
       "<Response [200]>"
      ]
     },
     "execution_count": 3,
     "metadata": {},
     "output_type": "execute_result"
    }
   ],
   "source": [
    "resp=requests.get(url)\n",
    "resp"
   ]
  },
  {
   "cell_type": "code",
   "execution_count": 4,
   "metadata": {},
   "outputs": [
    {
     "data": {
      "text/plain": [
       "['en_US',\n",
       " 'cs_CZ',\n",
       " 'de_DE',\n",
       " 'el_GR',\n",
       " 'en_AU',\n",
       " 'en_GB',\n",
       " 'en_PH',\n",
       " 'en_SG',\n",
       " 'es_AR',\n",
       " 'es_ES',\n",
       " 'es_MX',\n",
       " 'fr_FR',\n",
       " 'hu_HU',\n",
       " 'id_ID',\n",
       " 'it_IT',\n",
       " 'ja_JP',\n",
       " 'ko_KR',\n",
       " 'pl_PL',\n",
       " 'pt_BR',\n",
       " 'ro_RO',\n",
       " 'ru_RU',\n",
       " 'th_TH',\n",
       " 'tr_TR',\n",
       " 'vn_VN',\n",
       " 'zh_CN',\n",
       " 'zh_MY',\n",
       " 'zh_TW']"
      ]
     },
     "execution_count": 4,
     "metadata": {},
     "output_type": "execute_result"
    }
   ],
   "source": [
    "resp.json()"
   ]
  },
  {
   "cell_type": "code",
   "execution_count": null,
   "metadata": {},
   "outputs": [],
   "source": []
  }
 ],
 "metadata": {
  "kernelspec": {
   "display_name": "Python 3",
   "language": "python",
   "name": "python3"
  },
  "language_info": {
   "codemirror_mode": {
    "name": "ipython",
    "version": 3
   },
   "file_extension": ".py",
   "mimetype": "text/x-python",
   "name": "python",
   "nbconvert_exporter": "python",
   "pygments_lexer": "ipython3",
   "version": "3.8.5"
  },
  "toc": {
   "base_numbering": 1,
   "nav_menu": {},
   "number_sections": true,
   "sideBar": true,
   "skip_h1_title": false,
   "title_cell": "Table of Contents",
   "title_sidebar": "Contents",
   "toc_cell": false,
   "toc_position": {},
   "toc_section_display": true,
   "toc_window_display": false
  }
 },
 "nbformat": 4,
 "nbformat_minor": 4
}
